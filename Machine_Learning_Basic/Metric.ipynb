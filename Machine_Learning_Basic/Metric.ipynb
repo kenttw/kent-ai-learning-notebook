{
 "cells": [
  {
   "cell_type": "markdown",
   "metadata": {
    "collapsed": true,
    "pycharm": {
     "is_executing": false
    }
   },
   "source": [
    "# Machine Learning Model Performance Metric"
   ]
  },
  {
   "cell_type": "markdown",
   "metadata": {},
   "source": [
    "## Error Analysis\n",
    "<img src=\"https://i.imgur.com/UvgOZmX.png\" width=50% />"
   ]
  },
  {
   "cell_type": "markdown",
   "metadata": {},
   "source": [
    "## Classification\n",
    "a tips:\n",
    "label value definition at scikt learn\n",
    "positive_label_value = 1, negative_label_value = 0\n",
    "sour <br/>\n",
    "please refer this [source code]([https://github.com/scikit-learn/scikit-learn/blob/2beed55847ee70d363bdbfe14ee4401438fba057/sklearn/preprocessing/_label.py#L410](https://github.com/scikit-learn/scikit-learn/blob/2beed55847ee70d363bdbfe14ee4401438fba057/sklearn/preprocessing/_label.py#L410)\n",
    ")\n"
   ]
  },
  {
   "cell_type": "code",
   "execution_count": 1,
   "metadata": {},
   "outputs": [],
   "source": [
    "import pandas as pd\n",
    "data = pd.read_csv(\"https://docs.google.com/spreadsheets/d/1WvvJi6vyZ7oQZBBh9Cr4uZjt7BUU6D-EAkBlOYQfdts/gviz/tq?tqx=out:csv\")\n",
    "Y_predic = data['prediction'].tolist()\n",
    "X_actual = data['actual'].tolist()\n"
   ]
  },
  {
   "cell_type": "code",
   "execution_count": 2,
   "metadata": {},
   "outputs": [
    {
     "name": "stdout",
     "output_type": "stream",
     "text": [
      "Confusion Matrix :\n",
      "[[6 1]\n",
      " [1 2]]\n",
      "Accuracy Score is 0.8\n",
      "Classification Report : \n",
      "              precision    recall  f1-score   support\n",
      "\n",
      "           0       0.86      0.86      0.86         7\n",
      "           1       0.67      0.67      0.67         3\n",
      "\n",
      "    accuracy                           0.80        10\n",
      "   macro avg       0.76      0.76      0.76        10\n",
      "weighted avg       0.80      0.80      0.80        10\n",
      "\n",
      "AUC-ROC: 0.7619047619047619\n",
      "LOGLOSS Value is 6.907835238725156\n"
     ]
    }
   ],
   "source": [
    "from sklearn.metrics import confusion_matrix\n",
    "from sklearn.metrics import accuracy_score\n",
    "from sklearn.metrics import classification_report\n",
    "from sklearn.metrics import roc_auc_score\n",
    "from sklearn.metrics import log_loss\n",
    "\n",
    "\n",
    "\n",
    "# X_actual = [1, 1, 0, 1, 0, 0, 1, 0, 0, 0]\n",
    "# Y_predic = [1, 0, 1, 1, 1, 0, 1, 1, 0, 0]\n",
    "results = confusion_matrix(X_actual, Y_predic)\n",
    "print ('Confusion Matrix :')\n",
    "print(results)\n",
    "print ('Accuracy Score is',accuracy_score(X_actual, Y_predic))\n",
    "print ('Classification Report : ')\n",
    "print (classification_report(X_actual, Y_predic))\n",
    "print('AUC-ROC:',roc_auc_score(X_actual, Y_predic))\n",
    "print('LOGLOSS Value is',log_loss(X_actual, Y_predic))"
   ]
  },
  {
   "cell_type": "code",
   "execution_count": null,
   "metadata": {},
   "outputs": [],
   "source": []
  },
  {
   "cell_type": "markdown",
   "metadata": {},
   "source": [
    "## Regression\n",
    "* [參考資料](https://towardsdatascience.com/forecast-kpi-rmse-mae-mape-bias-cdc5703d242d)"
   ]
  },
  {
   "cell_type": "code",
   "execution_count": 3,
   "metadata": {},
   "outputs": [
    {
     "name": "stdout",
     "output_type": "stream",
     "text": [
      "R Squared = 0.9656060606060606\n",
      "MAE = 0.42499999999999993\n",
      "MSE = 0.5674999999999999\n"
     ]
    }
   ],
   "source": [
    "from sklearn.metrics import r2_score\n",
    "from sklearn.metrics import mean_absolute_error\n",
    "from sklearn.metrics import mean_squared_error\n",
    "X_actual = [5, -1, 2, 10]\n",
    "Y_predic = [3.5, -0.9, 2, 9.9]\n",
    "print ('R Squared =',r2_score(X_actual, Y_predic))\n",
    "print ('MAE =',mean_absolute_error(X_actual, Y_predic))\n",
    "print ('MSE =',mean_squared_error(X_actual, Y_predic))"
   ]
  },
  {
   "cell_type": "code",
   "execution_count": 3,
   "metadata": {},
   "outputs": [],
   "source": []
  }
 ],
 "metadata": {
  "kernelspec": {
   "display_name": "Python 3",
   "language": "python",
   "name": "python3"
  },
  "language_info": {
   "codemirror_mode": {
    "name": "ipython",
    "version": 3
   },
   "file_extension": ".py",
   "mimetype": "text/x-python",
   "name": "python",
   "nbconvert_exporter": "python",
   "pygments_lexer": "ipython3",
   "version": "3.8.2"
  }
 },
 "nbformat": 4,
 "nbformat_minor": 1
}