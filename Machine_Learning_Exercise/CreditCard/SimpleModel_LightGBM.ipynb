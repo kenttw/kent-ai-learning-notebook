{
 "cells": [
  {
   "cell_type": "markdown",
   "metadata": {
    "colab_type": "text",
    "id": "view-in-github"
   },
   "source": [
    "<a href=\"https://colab.research.google.com/github/kenttw/kent-ai-learning-notebook/blob/master/Machine_Learning_Exercise/CreditCard/SimpleModel_LightGBM.ipynb\" target=\"_parent\"><img src=\"https://colab.research.google.com/assets/colab-badge.svg\" alt=\"Open In Colab\"/></a>"
   ]
  },
  {
   "cell_type": "code",
   "execution_count": 26,
   "metadata": {
    "id": "3-9rZ_t1fvuS",
    "pycharm": {
     "is_executing": true
    }
   },
   "outputs": [],
   "source": [
    "import pandas as pd"
   ]
  },
  {
   "cell_type": "code",
   "execution_count": 28,
   "metadata": {
    "pycharm": {
     "is_executing": true
    }
   },
   "outputs": [],
   "source": [
    "train = pd.read_csv(\"./data/train.csv\")"
   ]
  },
  {
   "cell_type": "code",
   "execution_count": 30,
   "metadata": {
    "pycharm": {
     "is_executing": true
    }
   },
   "outputs": [
    {
     "data": {
      "text/html": [
       "<div>\n",
       "<style scoped>\n",
       "    .dataframe tbody tr th:only-of-type {\n",
       "        vertical-align: middle;\n",
       "    }\n",
       "\n",
       "    .dataframe tbody tr th {\n",
       "        vertical-align: top;\n",
       "    }\n",
       "\n",
       "    .dataframe thead th {\n",
       "        text-align: right;\n",
       "    }\n",
       "</style>\n",
       "<table border=\"1\" class=\"dataframe\">\n",
       "  <thead>\n",
       "    <tr style=\"text-align: right;\">\n",
       "      <th></th>\n",
       "      <th>acqic</th>\n",
       "      <th>bacno</th>\n",
       "      <th>cano</th>\n",
       "      <th>conam</th>\n",
       "      <th>contp</th>\n",
       "      <th>csmcu</th>\n",
       "      <th>etymd</th>\n",
       "      <th>fraud_ind</th>\n",
       "      <th>hcefg</th>\n",
       "      <th>iterm</th>\n",
       "      <th>locdt</th>\n",
       "      <th>loctm</th>\n",
       "      <th>mcc</th>\n",
       "      <th>mchno</th>\n",
       "      <th>scity</th>\n",
       "      <th>stocn</th>\n",
       "      <th>stscd</th>\n",
       "      <th>txkey</th>\n",
       "    </tr>\n",
       "  </thead>\n",
       "  <tbody>\n",
       "    <tr>\n",
       "      <th>count</th>\n",
       "      <td>1.141340e+06</td>\n",
       "      <td>1.141340e+06</td>\n",
       "      <td>1.141340e+06</td>\n",
       "      <td>1.141340e+06</td>\n",
       "      <td>1.141340e+06</td>\n",
       "      <td>1.141340e+06</td>\n",
       "      <td>1.141340e+06</td>\n",
       "      <td>1.141340e+06</td>\n",
       "      <td>1.141340e+06</td>\n",
       "      <td>1.141340e+06</td>\n",
       "      <td>1.141340e+06</td>\n",
       "      <td>1.141340e+06</td>\n",
       "      <td>1.141340e+06</td>\n",
       "      <td>1.141340e+06</td>\n",
       "      <td>1.141340e+06</td>\n",
       "      <td>1.141340e+06</td>\n",
       "      <td>1.141340e+06</td>\n",
       "      <td>1.141340e+06</td>\n",
       "    </tr>\n",
       "    <tr>\n",
       "      <th>mean</th>\n",
       "      <td>6.006358e+03</td>\n",
       "      <td>8.207719e+04</td>\n",
       "      <td>1.089379e+05</td>\n",
       "      <td>6.546797e+02</td>\n",
       "      <td>4.829436e+00</td>\n",
       "      <td>5.382622e+01</td>\n",
       "      <td>4.149955e+00</td>\n",
       "      <td>1.339040e-02</td>\n",
       "      <td>4.747995e+00</td>\n",
       "      <td>4.959784e-02</td>\n",
       "      <td>4.529871e+01</td>\n",
       "      <td>1.462972e+05</td>\n",
       "      <td>2.978248e+02</td>\n",
       "      <td>5.589110e+04</td>\n",
       "      <td>4.755236e+03</td>\n",
       "      <td>9.565174e+01</td>\n",
       "      <td>2.491457e-02</td>\n",
       "      <td>9.713231e+05</td>\n",
       "    </tr>\n",
       "    <tr>\n",
       "      <th>std</th>\n",
       "      <td>1.504925e+03</td>\n",
       "      <td>4.738710e+04</td>\n",
       "      <td>6.092417e+04</td>\n",
       "      <td>4.030133e+02</td>\n",
       "      <td>6.515574e-01</td>\n",
       "      <td>2.072867e+01</td>\n",
       "      <td>2.394154e+00</td>\n",
       "      <td>1.149396e-01</td>\n",
       "      <td>1.114225e+00</td>\n",
       "      <td>3.652489e-01</td>\n",
       "      <td>2.602185e+01</td>\n",
       "      <td>5.213356e+04</td>\n",
       "      <td>7.796604e+01</td>\n",
       "      <td>3.083730e+04</td>\n",
       "      <td>1.979464e+03</td>\n",
       "      <td>1.889329e+01</td>\n",
       "      <td>2.219759e-01</td>\n",
       "      <td>5.641638e+05</td>\n",
       "    </tr>\n",
       "    <tr>\n",
       "      <th>min</th>\n",
       "      <td>0.000000e+00</td>\n",
       "      <td>1.000000e+00</td>\n",
       "      <td>0.000000e+00</td>\n",
       "      <td>0.000000e+00</td>\n",
       "      <td>0.000000e+00</td>\n",
       "      <td>0.000000e+00</td>\n",
       "      <td>0.000000e+00</td>\n",
       "      <td>0.000000e+00</td>\n",
       "      <td>0.000000e+00</td>\n",
       "      <td>0.000000e+00</td>\n",
       "      <td>1.000000e+00</td>\n",
       "      <td>0.000000e+00</td>\n",
       "      <td>0.000000e+00</td>\n",
       "      <td>0.000000e+00</td>\n",
       "      <td>0.000000e+00</td>\n",
       "      <td>0.000000e+00</td>\n",
       "      <td>0.000000e+00</td>\n",
       "      <td>0.000000e+00</td>\n",
       "    </tr>\n",
       "    <tr>\n",
       "      <th>25%</th>\n",
       "      <td>5.982000e+03</td>\n",
       "      <td>4.135200e+04</td>\n",
       "      <td>5.765300e+04</td>\n",
       "      <td>4.364800e+02</td>\n",
       "      <td>5.000000e+00</td>\n",
       "      <td>6.200000e+01</td>\n",
       "      <td>2.000000e+00</td>\n",
       "      <td>0.000000e+00</td>\n",
       "      <td>5.000000e+00</td>\n",
       "      <td>0.000000e+00</td>\n",
       "      <td>2.300000e+01</td>\n",
       "      <td>1.109290e+05</td>\n",
       "      <td>2.500000e+02</td>\n",
       "      <td>3.374000e+04</td>\n",
       "      <td>3.802000e+03</td>\n",
       "      <td>1.020000e+02</td>\n",
       "      <td>0.000000e+00</td>\n",
       "      <td>4.872235e+05</td>\n",
       "    </tr>\n",
       "    <tr>\n",
       "      <th>50%</th>\n",
       "      <td>6.708000e+03</td>\n",
       "      <td>8.184400e+04</td>\n",
       "      <td>1.097910e+05</td>\n",
       "      <td>5.919000e+02</td>\n",
       "      <td>5.000000e+00</td>\n",
       "      <td>6.200000e+01</td>\n",
       "      <td>4.000000e+00</td>\n",
       "      <td>0.000000e+00</td>\n",
       "      <td>5.000000e+00</td>\n",
       "      <td>0.000000e+00</td>\n",
       "      <td>4.500000e+01</td>\n",
       "      <td>1.515090e+05</td>\n",
       "      <td>2.640000e+02</td>\n",
       "      <td>5.933300e+04</td>\n",
       "      <td>5.817000e+03</td>\n",
       "      <td>1.020000e+02</td>\n",
       "      <td>0.000000e+00</td>\n",
       "      <td>9.797315e+05</td>\n",
       "    </tr>\n",
       "    <tr>\n",
       "      <th>75%</th>\n",
       "      <td>6.769000e+03</td>\n",
       "      <td>1.230940e+05</td>\n",
       "      <td>1.619220e+05</td>\n",
       "      <td>8.075300e+02</td>\n",
       "      <td>5.000000e+00</td>\n",
       "      <td>6.200000e+01</td>\n",
       "      <td>5.000000e+00</td>\n",
       "      <td>0.000000e+00</td>\n",
       "      <td>5.000000e+00</td>\n",
       "      <td>0.000000e+00</td>\n",
       "      <td>6.800000e+01</td>\n",
       "      <td>1.858180e+05</td>\n",
       "      <td>3.430000e+02</td>\n",
       "      <td>7.920000e+04</td>\n",
       "      <td>5.817000e+03</td>\n",
       "      <td>1.020000e+02</td>\n",
       "      <td>0.000000e+00</td>\n",
       "      <td>1.455292e+06</td>\n",
       "    </tr>\n",
       "    <tr>\n",
       "      <th>max</th>\n",
       "      <td>6.884000e+03</td>\n",
       "      <td>1.638840e+05</td>\n",
       "      <td>2.133340e+05</td>\n",
       "      <td>7.208770e+03</td>\n",
       "      <td>6.000000e+00</td>\n",
       "      <td>7.500000e+01</td>\n",
       "      <td>1.000000e+01</td>\n",
       "      <td>1.000000e+00</td>\n",
       "      <td>9.000000e+00</td>\n",
       "      <td>8.000000e+00</td>\n",
       "      <td>9.000000e+01</td>\n",
       "      <td>2.359590e+05</td>\n",
       "      <td>4.590000e+02</td>\n",
       "      <td>1.033070e+05</td>\n",
       "      <td>6.671000e+03</td>\n",
       "      <td>1.070000e+02</td>\n",
       "      <td>4.000000e+00</td>\n",
       "      <td>1.958239e+06</td>\n",
       "    </tr>\n",
       "  </tbody>\n",
       "</table>\n",
       "</div>"
      ],
      "text/plain": [
       "              acqic         bacno          cano         conam         contp  \\\n",
       "count  1.141340e+06  1.141340e+06  1.141340e+06  1.141340e+06  1.141340e+06   \n",
       "mean   6.006358e+03  8.207719e+04  1.089379e+05  6.546797e+02  4.829436e+00   \n",
       "std    1.504925e+03  4.738710e+04  6.092417e+04  4.030133e+02  6.515574e-01   \n",
       "min    0.000000e+00  1.000000e+00  0.000000e+00  0.000000e+00  0.000000e+00   \n",
       "25%    5.982000e+03  4.135200e+04  5.765300e+04  4.364800e+02  5.000000e+00   \n",
       "50%    6.708000e+03  8.184400e+04  1.097910e+05  5.919000e+02  5.000000e+00   \n",
       "75%    6.769000e+03  1.230940e+05  1.619220e+05  8.075300e+02  5.000000e+00   \n",
       "max    6.884000e+03  1.638840e+05  2.133340e+05  7.208770e+03  6.000000e+00   \n",
       "\n",
       "              csmcu         etymd     fraud_ind         hcefg         iterm  \\\n",
       "count  1.141340e+06  1.141340e+06  1.141340e+06  1.141340e+06  1.141340e+06   \n",
       "mean   5.382622e+01  4.149955e+00  1.339040e-02  4.747995e+00  4.959784e-02   \n",
       "std    2.072867e+01  2.394154e+00  1.149396e-01  1.114225e+00  3.652489e-01   \n",
       "min    0.000000e+00  0.000000e+00  0.000000e+00  0.000000e+00  0.000000e+00   \n",
       "25%    6.200000e+01  2.000000e+00  0.000000e+00  5.000000e+00  0.000000e+00   \n",
       "50%    6.200000e+01  4.000000e+00  0.000000e+00  5.000000e+00  0.000000e+00   \n",
       "75%    6.200000e+01  5.000000e+00  0.000000e+00  5.000000e+00  0.000000e+00   \n",
       "max    7.500000e+01  1.000000e+01  1.000000e+00  9.000000e+00  8.000000e+00   \n",
       "\n",
       "              locdt         loctm           mcc         mchno         scity  \\\n",
       "count  1.141340e+06  1.141340e+06  1.141340e+06  1.141340e+06  1.141340e+06   \n",
       "mean   4.529871e+01  1.462972e+05  2.978248e+02  5.589110e+04  4.755236e+03   \n",
       "std    2.602185e+01  5.213356e+04  7.796604e+01  3.083730e+04  1.979464e+03   \n",
       "min    1.000000e+00  0.000000e+00  0.000000e+00  0.000000e+00  0.000000e+00   \n",
       "25%    2.300000e+01  1.109290e+05  2.500000e+02  3.374000e+04  3.802000e+03   \n",
       "50%    4.500000e+01  1.515090e+05  2.640000e+02  5.933300e+04  5.817000e+03   \n",
       "75%    6.800000e+01  1.858180e+05  3.430000e+02  7.920000e+04  5.817000e+03   \n",
       "max    9.000000e+01  2.359590e+05  4.590000e+02  1.033070e+05  6.671000e+03   \n",
       "\n",
       "              stocn         stscd         txkey  \n",
       "count  1.141340e+06  1.141340e+06  1.141340e+06  \n",
       "mean   9.565174e+01  2.491457e-02  9.713231e+05  \n",
       "std    1.889329e+01  2.219759e-01  5.641638e+05  \n",
       "min    0.000000e+00  0.000000e+00  0.000000e+00  \n",
       "25%    1.020000e+02  0.000000e+00  4.872235e+05  \n",
       "50%    1.020000e+02  0.000000e+00  9.797315e+05  \n",
       "75%    1.020000e+02  0.000000e+00  1.455292e+06  \n",
       "max    1.070000e+02  4.000000e+00  1.958239e+06  "
      ]
     },
     "execution_count": 30,
     "metadata": {},
     "output_type": "execute_result"
    }
   ],
   "source": [
    "train.describe()"
   ]
  },
  {
   "cell_type": "markdown",
   "metadata": {},
   "source": [
    "# Down Sampling"
   ]
  },
  {
   "cell_type": "code",
   "execution_count": 52,
   "metadata": {
    "pycharm": {
     "is_executing": true
    }
   },
   "outputs": [],
   "source": [
    "train_1 = train[train.fraud_ind == 1]"
   ]
  },
  {
   "cell_type": "code",
   "execution_count": 53,
   "metadata": {
    "pycharm": {
     "is_executing": true
    }
   },
   "outputs": [
    {
     "data": {
      "text/html": [
       "<div>\n",
       "<style scoped>\n",
       "    .dataframe tbody tr th:only-of-type {\n",
       "        vertical-align: middle;\n",
       "    }\n",
       "\n",
       "    .dataframe tbody tr th {\n",
       "        vertical-align: top;\n",
       "    }\n",
       "\n",
       "    .dataframe thead th {\n",
       "        text-align: right;\n",
       "    }\n",
       "</style>\n",
       "<table border=\"1\" class=\"dataframe\">\n",
       "  <thead>\n",
       "    <tr style=\"text-align: right;\">\n",
       "      <th></th>\n",
       "      <th>acqic</th>\n",
       "      <th>bacno</th>\n",
       "      <th>cano</th>\n",
       "      <th>conam</th>\n",
       "      <th>contp</th>\n",
       "      <th>csmcu</th>\n",
       "      <th>etymd</th>\n",
       "      <th>fraud_ind</th>\n",
       "      <th>hcefg</th>\n",
       "      <th>iterm</th>\n",
       "      <th>locdt</th>\n",
       "      <th>loctm</th>\n",
       "      <th>mcc</th>\n",
       "      <th>mchno</th>\n",
       "      <th>scity</th>\n",
       "      <th>stocn</th>\n",
       "      <th>stscd</th>\n",
       "      <th>txkey</th>\n",
       "    </tr>\n",
       "  </thead>\n",
       "  <tbody>\n",
       "    <tr>\n",
       "      <th>count</th>\n",
       "      <td>15283.000000</td>\n",
       "      <td>15283.000000</td>\n",
       "      <td>15283.000000</td>\n",
       "      <td>15283.000000</td>\n",
       "      <td>15283.000000</td>\n",
       "      <td>15283.000000</td>\n",
       "      <td>15283.000000</td>\n",
       "      <td>15283.0</td>\n",
       "      <td>15283.000000</td>\n",
       "      <td>15283.000000</td>\n",
       "      <td>15283.000000</td>\n",
       "      <td>15283.000000</td>\n",
       "      <td>15283.000000</td>\n",
       "      <td>15283.000000</td>\n",
       "      <td>15283.000000</td>\n",
       "      <td>15283.000000</td>\n",
       "      <td>15283.000000</td>\n",
       "      <td>1.528300e+04</td>\n",
       "    </tr>\n",
       "    <tr>\n",
       "      <th>mean</th>\n",
       "      <td>4932.146372</td>\n",
       "      <td>82289.184715</td>\n",
       "      <td>110977.883727</td>\n",
       "      <td>713.072810</td>\n",
       "      <td>4.960479</td>\n",
       "      <td>56.162534</td>\n",
       "      <td>5.529543</td>\n",
       "      <td>1.0</td>\n",
       "      <td>4.999804</td>\n",
       "      <td>0.003795</td>\n",
       "      <td>42.565203</td>\n",
       "      <td>127180.714650</td>\n",
       "      <td>295.414971</td>\n",
       "      <td>52568.312504</td>\n",
       "      <td>4281.161290</td>\n",
       "      <td>69.454492</td>\n",
       "      <td>0.549499</td>\n",
       "      <td>1.139781e+06</td>\n",
       "    </tr>\n",
       "    <tr>\n",
       "      <th>std</th>\n",
       "      <td>1543.648162</td>\n",
       "      <td>47434.813896</td>\n",
       "      <td>60659.156165</td>\n",
       "      <td>564.219474</td>\n",
       "      <td>0.202091</td>\n",
       "      <td>15.948025</td>\n",
       "      <td>2.948289</td>\n",
       "      <td>0.0</td>\n",
       "      <td>0.244425</td>\n",
       "      <td>0.089268</td>\n",
       "      <td>23.470492</td>\n",
       "      <td>73487.290342</td>\n",
       "      <td>68.640865</td>\n",
       "      <td>18025.286212</td>\n",
       "      <td>2348.617285</td>\n",
       "      <td>31.590302</td>\n",
       "      <td>0.892072</td>\n",
       "      <td>5.668092e+05</td>\n",
       "    </tr>\n",
       "    <tr>\n",
       "      <th>min</th>\n",
       "      <td>0.000000</td>\n",
       "      <td>2.000000</td>\n",
       "      <td>23.000000</td>\n",
       "      <td>0.000000</td>\n",
       "      <td>2.000000</td>\n",
       "      <td>0.000000</td>\n",
       "      <td>0.000000</td>\n",
       "      <td>1.0</td>\n",
       "      <td>0.000000</td>\n",
       "      <td>0.000000</td>\n",
       "      <td>1.000000</td>\n",
       "      <td>5.000000</td>\n",
       "      <td>5.000000</td>\n",
       "      <td>0.000000</td>\n",
       "      <td>0.000000</td>\n",
       "      <td>0.000000</td>\n",
       "      <td>0.000000</td>\n",
       "      <td>1.587400e+04</td>\n",
       "    </tr>\n",
       "    <tr>\n",
       "      <th>25%</th>\n",
       "      <td>3348.000000</td>\n",
       "      <td>40187.500000</td>\n",
       "      <td>60927.000000</td>\n",
       "      <td>223.110000</td>\n",
       "      <td>5.000000</td>\n",
       "      <td>61.000000</td>\n",
       "      <td>2.000000</td>\n",
       "      <td>1.0</td>\n",
       "      <td>5.000000</td>\n",
       "      <td>0.000000</td>\n",
       "      <td>25.000000</td>\n",
       "      <td>60608.000000</td>\n",
       "      <td>263.000000</td>\n",
       "      <td>51293.000000</td>\n",
       "      <td>1803.000000</td>\n",
       "      <td>38.000000</td>\n",
       "      <td>0.000000</td>\n",
       "      <td>6.960135e+05</td>\n",
       "    </tr>\n",
       "    <tr>\n",
       "      <th>50%</th>\n",
       "      <td>5720.000000</td>\n",
       "      <td>83082.000000</td>\n",
       "      <td>112170.000000</td>\n",
       "      <td>696.350000</td>\n",
       "      <td>5.000000</td>\n",
       "      <td>61.000000</td>\n",
       "      <td>8.000000</td>\n",
       "      <td>1.0</td>\n",
       "      <td>5.000000</td>\n",
       "      <td>0.000000</td>\n",
       "      <td>40.000000</td>\n",
       "      <td>140138.000000</td>\n",
       "      <td>289.000000</td>\n",
       "      <td>54828.000000</td>\n",
       "      <td>5320.000000</td>\n",
       "      <td>75.000000</td>\n",
       "      <td>0.000000</td>\n",
       "      <td>7.519770e+05</td>\n",
       "    </tr>\n",
       "    <tr>\n",
       "      <th>75%</th>\n",
       "      <td>6331.000000</td>\n",
       "      <td>123112.000000</td>\n",
       "      <td>164717.000000</td>\n",
       "      <td>1016.340000</td>\n",
       "      <td>5.000000</td>\n",
       "      <td>62.000000</td>\n",
       "      <td>8.000000</td>\n",
       "      <td>1.0</td>\n",
       "      <td>5.000000</td>\n",
       "      <td>0.000000</td>\n",
       "      <td>60.000000</td>\n",
       "      <td>192036.500000</td>\n",
       "      <td>360.000000</td>\n",
       "      <td>59578.000000</td>\n",
       "      <td>6580.000000</td>\n",
       "      <td>104.000000</td>\n",
       "      <td>2.000000</td>\n",
       "      <td>1.859624e+06</td>\n",
       "    </tr>\n",
       "    <tr>\n",
       "      <th>max</th>\n",
       "      <td>6883.000000</td>\n",
       "      <td>163854.000000</td>\n",
       "      <td>212152.000000</td>\n",
       "      <td>3353.250000</td>\n",
       "      <td>6.000000</td>\n",
       "      <td>75.000000</td>\n",
       "      <td>9.000000</td>\n",
       "      <td>1.0</td>\n",
       "      <td>7.000000</td>\n",
       "      <td>4.000000</td>\n",
       "      <td>90.000000</td>\n",
       "      <td>235959.000000</td>\n",
       "      <td>458.000000</td>\n",
       "      <td>103304.000000</td>\n",
       "      <td>6665.000000</td>\n",
       "      <td>106.000000</td>\n",
       "      <td>2.000000</td>\n",
       "      <td>1.957940e+06</td>\n",
       "    </tr>\n",
       "  </tbody>\n",
       "</table>\n",
       "</div>"
      ],
      "text/plain": [
       "              acqic          bacno           cano         conam         contp  \\\n",
       "count  15283.000000   15283.000000   15283.000000  15283.000000  15283.000000   \n",
       "mean    4932.146372   82289.184715  110977.883727    713.072810      4.960479   \n",
       "std     1543.648162   47434.813896   60659.156165    564.219474      0.202091   \n",
       "min        0.000000       2.000000      23.000000      0.000000      2.000000   \n",
       "25%     3348.000000   40187.500000   60927.000000    223.110000      5.000000   \n",
       "50%     5720.000000   83082.000000  112170.000000    696.350000      5.000000   \n",
       "75%     6331.000000  123112.000000  164717.000000   1016.340000      5.000000   \n",
       "max     6883.000000  163854.000000  212152.000000   3353.250000      6.000000   \n",
       "\n",
       "              csmcu         etymd  fraud_ind         hcefg         iterm  \\\n",
       "count  15283.000000  15283.000000    15283.0  15283.000000  15283.000000   \n",
       "mean      56.162534      5.529543        1.0      4.999804      0.003795   \n",
       "std       15.948025      2.948289        0.0      0.244425      0.089268   \n",
       "min        0.000000      0.000000        1.0      0.000000      0.000000   \n",
       "25%       61.000000      2.000000        1.0      5.000000      0.000000   \n",
       "50%       61.000000      8.000000        1.0      5.000000      0.000000   \n",
       "75%       62.000000      8.000000        1.0      5.000000      0.000000   \n",
       "max       75.000000      9.000000        1.0      7.000000      4.000000   \n",
       "\n",
       "              locdt          loctm           mcc          mchno         scity  \\\n",
       "count  15283.000000   15283.000000  15283.000000   15283.000000  15283.000000   \n",
       "mean      42.565203  127180.714650    295.414971   52568.312504   4281.161290   \n",
       "std       23.470492   73487.290342     68.640865   18025.286212   2348.617285   \n",
       "min        1.000000       5.000000      5.000000       0.000000      0.000000   \n",
       "25%       25.000000   60608.000000    263.000000   51293.000000   1803.000000   \n",
       "50%       40.000000  140138.000000    289.000000   54828.000000   5320.000000   \n",
       "75%       60.000000  192036.500000    360.000000   59578.000000   6580.000000   \n",
       "max       90.000000  235959.000000    458.000000  103304.000000   6665.000000   \n",
       "\n",
       "              stocn         stscd         txkey  \n",
       "count  15283.000000  15283.000000  1.528300e+04  \n",
       "mean      69.454492      0.549499  1.139781e+06  \n",
       "std       31.590302      0.892072  5.668092e+05  \n",
       "min        0.000000      0.000000  1.587400e+04  \n",
       "25%       38.000000      0.000000  6.960135e+05  \n",
       "50%       75.000000      0.000000  7.519770e+05  \n",
       "75%      104.000000      2.000000  1.859624e+06  \n",
       "max      106.000000      2.000000  1.957940e+06  "
      ]
     },
     "execution_count": 53,
     "metadata": {},
     "output_type": "execute_result"
    }
   ],
   "source": [
    "train_1.describe()"
   ]
  },
  {
   "cell_type": "code",
   "execution_count": 54,
   "metadata": {
    "pycharm": {
     "is_executing": true
    }
   },
   "outputs": [],
   "source": [
    "train_0 = train[train.fraud_ind == 0]"
   ]
  },
  {
   "cell_type": "code",
   "execution_count": 55,
   "metadata": {
    "pycharm": {
     "is_executing": true
    }
   },
   "outputs": [],
   "source": [
    "train_0_sample = train_0.sample(len(train_1), random_state=111)"
   ]
  },
  {
   "cell_type": "code",
   "execution_count": 56,
   "metadata": {
    "pycharm": {
     "is_executing": true
    }
   },
   "outputs": [
    {
     "data": {
      "text/html": [
       "<div>\n",
       "<style scoped>\n",
       "    .dataframe tbody tr th:only-of-type {\n",
       "        vertical-align: middle;\n",
       "    }\n",
       "\n",
       "    .dataframe tbody tr th {\n",
       "        vertical-align: top;\n",
       "    }\n",
       "\n",
       "    .dataframe thead th {\n",
       "        text-align: right;\n",
       "    }\n",
       "</style>\n",
       "<table border=\"1\" class=\"dataframe\">\n",
       "  <thead>\n",
       "    <tr style=\"text-align: right;\">\n",
       "      <th></th>\n",
       "      <th>acqic</th>\n",
       "      <th>bacno</th>\n",
       "      <th>cano</th>\n",
       "      <th>conam</th>\n",
       "      <th>contp</th>\n",
       "      <th>csmcu</th>\n",
       "      <th>etymd</th>\n",
       "      <th>fraud_ind</th>\n",
       "      <th>hcefg</th>\n",
       "      <th>iterm</th>\n",
       "      <th>locdt</th>\n",
       "      <th>loctm</th>\n",
       "      <th>mcc</th>\n",
       "      <th>mchno</th>\n",
       "      <th>scity</th>\n",
       "      <th>stocn</th>\n",
       "      <th>stscd</th>\n",
       "      <th>txkey</th>\n",
       "    </tr>\n",
       "  </thead>\n",
       "  <tbody>\n",
       "    <tr>\n",
       "      <th>count</th>\n",
       "      <td>15283.000000</td>\n",
       "      <td>15283.000000</td>\n",
       "      <td>15283.000000</td>\n",
       "      <td>15283.000000</td>\n",
       "      <td>15283.000000</td>\n",
       "      <td>15283.000000</td>\n",
       "      <td>15283.000000</td>\n",
       "      <td>15283.0</td>\n",
       "      <td>15283.000000</td>\n",
       "      <td>15283.000000</td>\n",
       "      <td>15283.000000</td>\n",
       "      <td>15283.000000</td>\n",
       "      <td>15283.000000</td>\n",
       "      <td>15283.000000</td>\n",
       "      <td>15283.000000</td>\n",
       "      <td>15283.000000</td>\n",
       "      <td>15283.000000</td>\n",
       "      <td>1.528300e+04</td>\n",
       "    </tr>\n",
       "    <tr>\n",
       "      <th>mean</th>\n",
       "      <td>6013.472093</td>\n",
       "      <td>80931.396912</td>\n",
       "      <td>109521.897271</td>\n",
       "      <td>651.599413</td>\n",
       "      <td>4.828502</td>\n",
       "      <td>53.669698</td>\n",
       "      <td>4.119806</td>\n",
       "      <td>0.0</td>\n",
       "      <td>4.743637</td>\n",
       "      <td>0.049663</td>\n",
       "      <td>45.138585</td>\n",
       "      <td>146627.723353</td>\n",
       "      <td>298.112347</td>\n",
       "      <td>55879.644311</td>\n",
       "      <td>4752.388994</td>\n",
       "      <td>96.038278</td>\n",
       "      <td>0.018452</td>\n",
       "      <td>9.714091e+05</td>\n",
       "    </tr>\n",
       "    <tr>\n",
       "      <th>std</th>\n",
       "      <td>1507.026572</td>\n",
       "      <td>46915.319661</td>\n",
       "      <td>60775.439365</td>\n",
       "      <td>399.350454</td>\n",
       "      <td>0.657450</td>\n",
       "      <td>20.894367</td>\n",
       "      <td>2.381625</td>\n",
       "      <td>0.0</td>\n",
       "      <td>1.118592</td>\n",
       "      <td>0.353651</td>\n",
       "      <td>26.044660</td>\n",
       "      <td>51603.676954</td>\n",
       "      <td>78.044001</td>\n",
       "      <td>31072.666023</td>\n",
       "      <td>1984.794603</td>\n",
       "      <td>18.463904</td>\n",
       "      <td>0.190536</td>\n",
       "      <td>5.630901e+05</td>\n",
       "    </tr>\n",
       "    <tr>\n",
       "      <th>min</th>\n",
       "      <td>0.000000</td>\n",
       "      <td>2.000000</td>\n",
       "      <td>3.000000</td>\n",
       "      <td>0.000000</td>\n",
       "      <td>2.000000</td>\n",
       "      <td>0.000000</td>\n",
       "      <td>0.000000</td>\n",
       "      <td>0.0</td>\n",
       "      <td>0.000000</td>\n",
       "      <td>0.000000</td>\n",
       "      <td>1.000000</td>\n",
       "      <td>5.000000</td>\n",
       "      <td>2.000000</td>\n",
       "      <td>0.000000</td>\n",
       "      <td>0.000000</td>\n",
       "      <td>0.000000</td>\n",
       "      <td>0.000000</td>\n",
       "      <td>1.970000e+02</td>\n",
       "    </tr>\n",
       "    <tr>\n",
       "      <th>25%</th>\n",
       "      <td>5982.000000</td>\n",
       "      <td>41226.500000</td>\n",
       "      <td>58858.500000</td>\n",
       "      <td>432.400000</td>\n",
       "      <td>5.000000</td>\n",
       "      <td>62.000000</td>\n",
       "      <td>2.000000</td>\n",
       "      <td>0.0</td>\n",
       "      <td>5.000000</td>\n",
       "      <td>0.000000</td>\n",
       "      <td>22.000000</td>\n",
       "      <td>110548.000000</td>\n",
       "      <td>250.000000</td>\n",
       "      <td>32216.000000</td>\n",
       "      <td>4042.000000</td>\n",
       "      <td>102.000000</td>\n",
       "      <td>0.000000</td>\n",
       "      <td>4.853675e+05</td>\n",
       "    </tr>\n",
       "    <tr>\n",
       "      <th>50%</th>\n",
       "      <td>6716.000000</td>\n",
       "      <td>80006.000000</td>\n",
       "      <td>109796.000000</td>\n",
       "      <td>585.920000</td>\n",
       "      <td>5.000000</td>\n",
       "      <td>62.000000</td>\n",
       "      <td>4.000000</td>\n",
       "      <td>0.0</td>\n",
       "      <td>5.000000</td>\n",
       "      <td>0.000000</td>\n",
       "      <td>45.000000</td>\n",
       "      <td>151317.000000</td>\n",
       "      <td>264.000000</td>\n",
       "      <td>59360.000000</td>\n",
       "      <td>5817.000000</td>\n",
       "      <td>102.000000</td>\n",
       "      <td>0.000000</td>\n",
       "      <td>9.887370e+05</td>\n",
       "    </tr>\n",
       "    <tr>\n",
       "      <th>75%</th>\n",
       "      <td>6769.000000</td>\n",
       "      <td>121482.500000</td>\n",
       "      <td>162938.500000</td>\n",
       "      <td>802.730000</td>\n",
       "      <td>5.000000</td>\n",
       "      <td>62.000000</td>\n",
       "      <td>5.000000</td>\n",
       "      <td>0.0</td>\n",
       "      <td>5.000000</td>\n",
       "      <td>0.000000</td>\n",
       "      <td>68.000000</td>\n",
       "      <td>185915.500000</td>\n",
       "      <td>343.000000</td>\n",
       "      <td>79250.000000</td>\n",
       "      <td>5817.000000</td>\n",
       "      <td>102.000000</td>\n",
       "      <td>0.000000</td>\n",
       "      <td>1.453432e+06</td>\n",
       "    </tr>\n",
       "    <tr>\n",
       "      <th>max</th>\n",
       "      <td>6883.000000</td>\n",
       "      <td>163883.000000</td>\n",
       "      <td>213334.000000</td>\n",
       "      <td>4683.260000</td>\n",
       "      <td>6.000000</td>\n",
       "      <td>75.000000</td>\n",
       "      <td>9.000000</td>\n",
       "      <td>0.0</td>\n",
       "      <td>9.000000</td>\n",
       "      <td>8.000000</td>\n",
       "      <td>90.000000</td>\n",
       "      <td>235959.000000</td>\n",
       "      <td>459.000000</td>\n",
       "      <td>103306.000000</td>\n",
       "      <td>6652.000000</td>\n",
       "      <td>106.000000</td>\n",
       "      <td>2.000000</td>\n",
       "      <td>1.958239e+06</td>\n",
       "    </tr>\n",
       "  </tbody>\n",
       "</table>\n",
       "</div>"
      ],
      "text/plain": [
       "              acqic          bacno           cano         conam         contp  \\\n",
       "count  15283.000000   15283.000000   15283.000000  15283.000000  15283.000000   \n",
       "mean    6013.472093   80931.396912  109521.897271    651.599413      4.828502   \n",
       "std     1507.026572   46915.319661   60775.439365    399.350454      0.657450   \n",
       "min        0.000000       2.000000       3.000000      0.000000      2.000000   \n",
       "25%     5982.000000   41226.500000   58858.500000    432.400000      5.000000   \n",
       "50%     6716.000000   80006.000000  109796.000000    585.920000      5.000000   \n",
       "75%     6769.000000  121482.500000  162938.500000    802.730000      5.000000   \n",
       "max     6883.000000  163883.000000  213334.000000   4683.260000      6.000000   \n",
       "\n",
       "              csmcu         etymd  fraud_ind         hcefg         iterm  \\\n",
       "count  15283.000000  15283.000000    15283.0  15283.000000  15283.000000   \n",
       "mean      53.669698      4.119806        0.0      4.743637      0.049663   \n",
       "std       20.894367      2.381625        0.0      1.118592      0.353651   \n",
       "min        0.000000      0.000000        0.0      0.000000      0.000000   \n",
       "25%       62.000000      2.000000        0.0      5.000000      0.000000   \n",
       "50%       62.000000      4.000000        0.0      5.000000      0.000000   \n",
       "75%       62.000000      5.000000        0.0      5.000000      0.000000   \n",
       "max       75.000000      9.000000        0.0      9.000000      8.000000   \n",
       "\n",
       "              locdt          loctm           mcc          mchno         scity  \\\n",
       "count  15283.000000   15283.000000  15283.000000   15283.000000  15283.000000   \n",
       "mean      45.138585  146627.723353    298.112347   55879.644311   4752.388994   \n",
       "std       26.044660   51603.676954     78.044001   31072.666023   1984.794603   \n",
       "min        1.000000       5.000000      2.000000       0.000000      0.000000   \n",
       "25%       22.000000  110548.000000    250.000000   32216.000000   4042.000000   \n",
       "50%       45.000000  151317.000000    264.000000   59360.000000   5817.000000   \n",
       "75%       68.000000  185915.500000    343.000000   79250.000000   5817.000000   \n",
       "max       90.000000  235959.000000    459.000000  103306.000000   6652.000000   \n",
       "\n",
       "              stocn         stscd         txkey  \n",
       "count  15283.000000  15283.000000  1.528300e+04  \n",
       "mean      96.038278      0.018452  9.714091e+05  \n",
       "std       18.463904      0.190536  5.630901e+05  \n",
       "min        0.000000      0.000000  1.970000e+02  \n",
       "25%      102.000000      0.000000  4.853675e+05  \n",
       "50%      102.000000      0.000000  9.887370e+05  \n",
       "75%      102.000000      0.000000  1.453432e+06  \n",
       "max      106.000000      2.000000  1.958239e+06  "
      ]
     },
     "execution_count": 56,
     "metadata": {},
     "output_type": "execute_result"
    }
   ],
   "source": [
    "train_0_sample.describe()"
   ]
  },
  {
   "cell_type": "code",
   "execution_count": 57,
   "metadata": {
    "pycharm": {
     "is_executing": true
    }
   },
   "outputs": [],
   "source": [
    "train_down_sample = pd.concat([train_0_sample,train_1])"
   ]
  },
  {
   "cell_type": "code",
   "execution_count": 58,
   "metadata": {
    "pycharm": {
     "is_executing": true
    }
   },
   "outputs": [],
   "source": [
    "train_down_sample = train_down_sample.set_index(\"txkey\")"
   ]
  },
  {
   "cell_type": "code",
   "execution_count": 59,
   "metadata": {
    "pycharm": {
     "is_executing": true
    }
   },
   "outputs": [
    {
     "data": {
      "text/html": [
       "<div>\n",
       "<style scoped>\n",
       "    .dataframe tbody tr th:only-of-type {\n",
       "        vertical-align: middle;\n",
       "    }\n",
       "\n",
       "    .dataframe tbody tr th {\n",
       "        vertical-align: top;\n",
       "    }\n",
       "\n",
       "    .dataframe thead th {\n",
       "        text-align: right;\n",
       "    }\n",
       "</style>\n",
       "<table border=\"1\" class=\"dataframe\">\n",
       "  <thead>\n",
       "    <tr style=\"text-align: right;\">\n",
       "      <th></th>\n",
       "      <th>acqic</th>\n",
       "      <th>bacno</th>\n",
       "      <th>cano</th>\n",
       "      <th>conam</th>\n",
       "      <th>contp</th>\n",
       "      <th>csmcu</th>\n",
       "      <th>ecfg</th>\n",
       "      <th>etymd</th>\n",
       "      <th>flbmk</th>\n",
       "      <th>flg_3dsmk</th>\n",
       "      <th>...</th>\n",
       "      <th>insfg</th>\n",
       "      <th>iterm</th>\n",
       "      <th>locdt</th>\n",
       "      <th>loctm</th>\n",
       "      <th>mcc</th>\n",
       "      <th>mchno</th>\n",
       "      <th>ovrlt</th>\n",
       "      <th>scity</th>\n",
       "      <th>stocn</th>\n",
       "      <th>stscd</th>\n",
       "    </tr>\n",
       "    <tr>\n",
       "      <th>txkey</th>\n",
       "      <th></th>\n",
       "      <th></th>\n",
       "      <th></th>\n",
       "      <th></th>\n",
       "      <th></th>\n",
       "      <th></th>\n",
       "      <th></th>\n",
       "      <th></th>\n",
       "      <th></th>\n",
       "      <th></th>\n",
       "      <th></th>\n",
       "      <th></th>\n",
       "      <th></th>\n",
       "      <th></th>\n",
       "      <th></th>\n",
       "      <th></th>\n",
       "      <th></th>\n",
       "      <th></th>\n",
       "      <th></th>\n",
       "      <th></th>\n",
       "      <th></th>\n",
       "    </tr>\n",
       "  </thead>\n",
       "  <tbody>\n",
       "    <tr>\n",
       "      <th>528820</th>\n",
       "      <td>6881</td>\n",
       "      <td>147091</td>\n",
       "      <td>181016</td>\n",
       "      <td>513.8</td>\n",
       "      <td>5</td>\n",
       "      <td>0</td>\n",
       "      <td>N</td>\n",
       "      <td>0</td>\n",
       "      <td>N</td>\n",
       "      <td>N</td>\n",
       "      <td>...</td>\n",
       "      <td>N</td>\n",
       "      <td>0</td>\n",
       "      <td>44</td>\n",
       "      <td>212400.0</td>\n",
       "      <td>457</td>\n",
       "      <td>69007</td>\n",
       "      <td>N</td>\n",
       "      <td>0</td>\n",
       "      <td>102</td>\n",
       "      <td>0</td>\n",
       "    </tr>\n",
       "    <tr>\n",
       "      <th>1737750</th>\n",
       "      <td>6767</td>\n",
       "      <td>96505</td>\n",
       "      <td>119945</td>\n",
       "      <td>1011.5</td>\n",
       "      <td>5</td>\n",
       "      <td>62</td>\n",
       "      <td>N</td>\n",
       "      <td>5</td>\n",
       "      <td>N</td>\n",
       "      <td>N</td>\n",
       "      <td>...</td>\n",
       "      <td>N</td>\n",
       "      <td>0</td>\n",
       "      <td>77</td>\n",
       "      <td>183520.0</td>\n",
       "      <td>292</td>\n",
       "      <td>12739</td>\n",
       "      <td>N</td>\n",
       "      <td>5817</td>\n",
       "      <td>102</td>\n",
       "      <td>0</td>\n",
       "    </tr>\n",
       "  </tbody>\n",
       "</table>\n",
       "<p>2 rows × 22 columns</p>\n",
       "</div>"
      ],
      "text/plain": [
       "         acqic   bacno    cano   conam  contp  csmcu ecfg  etymd flbmk  \\\n",
       "txkey                                                                    \n",
       "528820    6881  147091  181016   513.8      5      0    N      0     N   \n",
       "1737750   6767   96505  119945  1011.5      5     62    N      5     N   \n",
       "\n",
       "        flg_3dsmk  ...  insfg  iterm locdt     loctm  mcc  mchno  ovrlt  \\\n",
       "txkey              ...                                                    \n",
       "528820          N  ...      N      0    44  212400.0  457  69007      N   \n",
       "1737750         N  ...      N      0    77  183520.0  292  12739      N   \n",
       "\n",
       "         scity stocn  stscd  \n",
       "txkey                        \n",
       "528820       0   102      0  \n",
       "1737750   5817   102      0  \n",
       "\n",
       "[2 rows x 22 columns]"
      ]
     },
     "execution_count": 59,
     "metadata": {},
     "output_type": "execute_result"
    }
   ],
   "source": [
    "train_down_sample.head(2)"
   ]
  },
  {
   "cell_type": "markdown",
   "metadata": {},
   "source": [
    "# Split to X and y"
   ]
  },
  {
   "cell_type": "code",
   "execution_count": 60,
   "metadata": {
    "id": "B7I4duEii_Ee",
    "pycharm": {
     "is_executing": true
    }
   },
   "outputs": [],
   "source": [
    "from sklearn.metrics import roc_auc_score, confusion_matrix, precision_score, recall_score, f1_score\n",
    "import os\n",
    "from random import random, randint\n",
    "from mlflow import log_metric, log_param, log_artifacts\n",
    "import mlflow\n"
   ]
  },
  {
   "cell_type": "code",
   "execution_count": 61,
   "metadata": {
    "pycharm": {
     "is_executing": true
    }
   },
   "outputs": [],
   "source": [
    "df_y = train_down_sample['fraud_ind']"
   ]
  },
  {
   "cell_type": "code",
   "execution_count": 62,
   "metadata": {
    "pycharm": {
     "is_executing": true
    }
   },
   "outputs": [
    {
     "data": {
      "text/plain": [
       "count    30566.000000\n",
       "mean         0.500000\n",
       "std          0.500008\n",
       "min          0.000000\n",
       "25%          0.000000\n",
       "50%          0.500000\n",
       "75%          1.000000\n",
       "max          1.000000\n",
       "Name: fraud_ind, dtype: float64"
      ]
     },
     "execution_count": 62,
     "metadata": {},
     "output_type": "execute_result"
    }
   ],
   "source": [
    "df_y.describe()"
   ]
  },
  {
   "cell_type": "code",
   "execution_count": 63,
   "metadata": {
    "pycharm": {
     "is_executing": true
    }
   },
   "outputs": [],
   "source": [
    "del train_down_sample['fraud_ind']"
   ]
  },
  {
   "cell_type": "code",
   "execution_count": 64,
   "metadata": {
    "pycharm": {
     "is_executing": true
    }
   },
   "outputs": [],
   "source": [
    "df_X = train_down_sample"
   ]
  },
  {
   "cell_type": "code",
   "execution_count": 65,
   "metadata": {
    "id": "6fA_eepKf04-",
    "pycharm": {
     "is_executing": true
    }
   },
   "outputs": [
    {
     "data": {
      "text/html": [
       "<div>\n",
       "<style scoped>\n",
       "    .dataframe tbody tr th:only-of-type {\n",
       "        vertical-align: middle;\n",
       "    }\n",
       "\n",
       "    .dataframe tbody tr th {\n",
       "        vertical-align: top;\n",
       "    }\n",
       "\n",
       "    .dataframe thead th {\n",
       "        text-align: right;\n",
       "    }\n",
       "</style>\n",
       "<table border=\"1\" class=\"dataframe\">\n",
       "  <thead>\n",
       "    <tr style=\"text-align: right;\">\n",
       "      <th></th>\n",
       "      <th>acqic</th>\n",
       "      <th>bacno</th>\n",
       "      <th>cano</th>\n",
       "      <th>conam</th>\n",
       "      <th>contp</th>\n",
       "      <th>csmcu</th>\n",
       "      <th>etymd</th>\n",
       "      <th>hcefg</th>\n",
       "      <th>iterm</th>\n",
       "      <th>locdt</th>\n",
       "      <th>loctm</th>\n",
       "      <th>mcc</th>\n",
       "      <th>mchno</th>\n",
       "      <th>scity</th>\n",
       "      <th>stocn</th>\n",
       "      <th>stscd</th>\n",
       "    </tr>\n",
       "  </thead>\n",
       "  <tbody>\n",
       "    <tr>\n",
       "      <th>count</th>\n",
       "      <td>30566.000000</td>\n",
       "      <td>30566.000000</td>\n",
       "      <td>30566.000000</td>\n",
       "      <td>30566.000000</td>\n",
       "      <td>30566.000000</td>\n",
       "      <td>30566.000000</td>\n",
       "      <td>30566.000000</td>\n",
       "      <td>30566.000000</td>\n",
       "      <td>30566.000000</td>\n",
       "      <td>30566.000000</td>\n",
       "      <td>30566.000000</td>\n",
       "      <td>30566.000000</td>\n",
       "      <td>30566.000000</td>\n",
       "      <td>30566.000000</td>\n",
       "      <td>30566.000000</td>\n",
       "      <td>30566.000000</td>\n",
       "    </tr>\n",
       "    <tr>\n",
       "      <th>mean</th>\n",
       "      <td>5472.809232</td>\n",
       "      <td>81610.290813</td>\n",
       "      <td>110249.890499</td>\n",
       "      <td>682.336111</td>\n",
       "      <td>4.894491</td>\n",
       "      <td>54.916116</td>\n",
       "      <td>4.824674</td>\n",
       "      <td>4.871720</td>\n",
       "      <td>0.026729</td>\n",
       "      <td>43.851894</td>\n",
       "      <td>136904.219002</td>\n",
       "      <td>296.763659</td>\n",
       "      <td>54223.978407</td>\n",
       "      <td>4516.775142</td>\n",
       "      <td>82.746385</td>\n",
       "      <td>0.283976</td>\n",
       "    </tr>\n",
       "    <tr>\n",
       "      <th>std</th>\n",
       "      <td>1618.406355</td>\n",
       "      <td>47179.895001</td>\n",
       "      <td>60720.696677</td>\n",
       "      <td>489.743973</td>\n",
       "      <td>0.490803</td>\n",
       "      <td>18.627918</td>\n",
       "      <td>2.771082</td>\n",
       "      <td>0.819683</td>\n",
       "      <td>0.258926</td>\n",
       "      <td>24.823974</td>\n",
       "      <td>64234.557554</td>\n",
       "      <td>73.504147</td>\n",
       "      <td>25454.488175</td>\n",
       "      <td>2187.022499</td>\n",
       "      <td>29.087622</td>\n",
       "      <td>0.697524</td>\n",
       "    </tr>\n",
       "    <tr>\n",
       "      <th>min</th>\n",
       "      <td>0.000000</td>\n",
       "      <td>2.000000</td>\n",
       "      <td>3.000000</td>\n",
       "      <td>0.000000</td>\n",
       "      <td>2.000000</td>\n",
       "      <td>0.000000</td>\n",
       "      <td>0.000000</td>\n",
       "      <td>0.000000</td>\n",
       "      <td>0.000000</td>\n",
       "      <td>1.000000</td>\n",
       "      <td>5.000000</td>\n",
       "      <td>2.000000</td>\n",
       "      <td>0.000000</td>\n",
       "      <td>0.000000</td>\n",
       "      <td>0.000000</td>\n",
       "      <td>0.000000</td>\n",
       "    </tr>\n",
       "    <tr>\n",
       "      <th>25%</th>\n",
       "      <td>3348.000000</td>\n",
       "      <td>40771.750000</td>\n",
       "      <td>59749.250000</td>\n",
       "      <td>363.990000</td>\n",
       "      <td>5.000000</td>\n",
       "      <td>61.000000</td>\n",
       "      <td>2.000000</td>\n",
       "      <td>5.000000</td>\n",
       "      <td>0.000000</td>\n",
       "      <td>24.000000</td>\n",
       "      <td>95603.250000</td>\n",
       "      <td>251.000000</td>\n",
       "      <td>41752.250000</td>\n",
       "      <td>3460.000000</td>\n",
       "      <td>46.000000</td>\n",
       "      <td>0.000000</td>\n",
       "    </tr>\n",
       "    <tr>\n",
       "      <th>50%</th>\n",
       "      <td>6215.000000</td>\n",
       "      <td>81166.500000</td>\n",
       "      <td>111007.500000</td>\n",
       "      <td>628.810000</td>\n",
       "      <td>5.000000</td>\n",
       "      <td>62.000000</td>\n",
       "      <td>5.000000</td>\n",
       "      <td>5.000000</td>\n",
       "      <td>0.000000</td>\n",
       "      <td>42.000000</td>\n",
       "      <td>144519.500000</td>\n",
       "      <td>288.000000</td>\n",
       "      <td>54828.000000</td>\n",
       "      <td>5817.000000</td>\n",
       "      <td>102.000000</td>\n",
       "      <td>0.000000</td>\n",
       "    </tr>\n",
       "    <tr>\n",
       "      <th>75%</th>\n",
       "      <td>6716.000000</td>\n",
       "      <td>122280.000000</td>\n",
       "      <td>163879.000000</td>\n",
       "      <td>944.630000</td>\n",
       "      <td>5.000000</td>\n",
       "      <td>62.000000</td>\n",
       "      <td>8.000000</td>\n",
       "      <td>5.000000</td>\n",
       "      <td>0.000000</td>\n",
       "      <td>64.000000</td>\n",
       "      <td>190815.000000</td>\n",
       "      <td>343.000000</td>\n",
       "      <td>72070.000000</td>\n",
       "      <td>5858.000000</td>\n",
       "      <td>102.000000</td>\n",
       "      <td>0.000000</td>\n",
       "    </tr>\n",
       "    <tr>\n",
       "      <th>max</th>\n",
       "      <td>6883.000000</td>\n",
       "      <td>163883.000000</td>\n",
       "      <td>213334.000000</td>\n",
       "      <td>4683.260000</td>\n",
       "      <td>6.000000</td>\n",
       "      <td>75.000000</td>\n",
       "      <td>9.000000</td>\n",
       "      <td>9.000000</td>\n",
       "      <td>8.000000</td>\n",
       "      <td>90.000000</td>\n",
       "      <td>235959.000000</td>\n",
       "      <td>459.000000</td>\n",
       "      <td>103306.000000</td>\n",
       "      <td>6665.000000</td>\n",
       "      <td>106.000000</td>\n",
       "      <td>2.000000</td>\n",
       "    </tr>\n",
       "  </tbody>\n",
       "</table>\n",
       "</div>"
      ],
      "text/plain": [
       "              acqic          bacno           cano         conam         contp  \\\n",
       "count  30566.000000   30566.000000   30566.000000  30566.000000  30566.000000   \n",
       "mean    5472.809232   81610.290813  110249.890499    682.336111      4.894491   \n",
       "std     1618.406355   47179.895001   60720.696677    489.743973      0.490803   \n",
       "min        0.000000       2.000000       3.000000      0.000000      2.000000   \n",
       "25%     3348.000000   40771.750000   59749.250000    363.990000      5.000000   \n",
       "50%     6215.000000   81166.500000  111007.500000    628.810000      5.000000   \n",
       "75%     6716.000000  122280.000000  163879.000000    944.630000      5.000000   \n",
       "max     6883.000000  163883.000000  213334.000000   4683.260000      6.000000   \n",
       "\n",
       "              csmcu         etymd         hcefg         iterm         locdt  \\\n",
       "count  30566.000000  30566.000000  30566.000000  30566.000000  30566.000000   \n",
       "mean      54.916116      4.824674      4.871720      0.026729     43.851894   \n",
       "std       18.627918      2.771082      0.819683      0.258926     24.823974   \n",
       "min        0.000000      0.000000      0.000000      0.000000      1.000000   \n",
       "25%       61.000000      2.000000      5.000000      0.000000     24.000000   \n",
       "50%       62.000000      5.000000      5.000000      0.000000     42.000000   \n",
       "75%       62.000000      8.000000      5.000000      0.000000     64.000000   \n",
       "max       75.000000      9.000000      9.000000      8.000000     90.000000   \n",
       "\n",
       "               loctm           mcc          mchno         scity         stocn  \\\n",
       "count   30566.000000  30566.000000   30566.000000  30566.000000  30566.000000   \n",
       "mean   136904.219002    296.763659   54223.978407   4516.775142     82.746385   \n",
       "std     64234.557554     73.504147   25454.488175   2187.022499     29.087622   \n",
       "min         5.000000      2.000000       0.000000      0.000000      0.000000   \n",
       "25%     95603.250000    251.000000   41752.250000   3460.000000     46.000000   \n",
       "50%    144519.500000    288.000000   54828.000000   5817.000000    102.000000   \n",
       "75%    190815.000000    343.000000   72070.000000   5858.000000    102.000000   \n",
       "max    235959.000000    459.000000  103306.000000   6665.000000    106.000000   \n",
       "\n",
       "              stscd  \n",
       "count  30566.000000  \n",
       "mean       0.283976  \n",
       "std        0.697524  \n",
       "min        0.000000  \n",
       "25%        0.000000  \n",
       "50%        0.000000  \n",
       "75%        0.000000  \n",
       "max        2.000000  "
      ]
     },
     "execution_count": 65,
     "metadata": {},
     "output_type": "execute_result"
    }
   ],
   "source": [
    "df_X.describe()"
   ]
  },
  {
   "cell_type": "markdown",
   "metadata": {},
   "source": [
    "# Build Model"
   ]
  },
  {
   "cell_type": "code",
   "execution_count": 66,
   "metadata": {
    "id": "8ULh9oudgTHI",
    "pycharm": {
     "is_executing": true
    }
   },
   "outputs": [],
   "source": [
    "import lightgbm as lgb\n"
   ]
  },
  {
   "cell_type": "code",
   "execution_count": 67,
   "metadata": {
    "id": "gFSD8HVlgu2z",
    "pycharm": {
     "is_executing": true
    }
   },
   "outputs": [],
   "source": [
    "from sklearn.model_selection import train_test_split\n",
    "df_X_train, df_X_val = train_test_split(df_X, test_size=0.25, random_state=42)\n"
   ]
  },
  {
   "cell_type": "code",
   "execution_count": 68,
   "metadata": {
    "id": "encqeBTZhtzr",
    "pycharm": {
     "is_executing": true
    }
   },
   "outputs": [],
   "source": [
    "df_y_train = df_y.loc[df_X_train.index]\n",
    "df_y_val = df_y.loc[df_X_val.index]"
   ]
  },
  {
   "cell_type": "code",
   "execution_count": 69,
   "metadata": {
    "pycharm": {
     "is_executing": true
    }
   },
   "outputs": [
    {
     "name": "stderr",
     "output_type": "stream",
     "text": [
      "<ipython-input-69-71d6bfc8a9e4>:2: SettingWithCopyWarning: \n",
      "A value is trying to be set on a copy of a slice from a DataFrame.\n",
      "Try using .loc[row_indexer,col_indexer] = value instead\n",
      "\n",
      "See the caveats in the documentation: https://pandas.pydata.org/pandas-docs/stable/user_guide/indexing.html#returning-a-view-versus-a-copy\n",
      "  df_X_train[cnam] = df_X_train[cnam].astype('category')\n",
      "<ipython-input-69-71d6bfc8a9e4>:3: SettingWithCopyWarning: \n",
      "A value is trying to be set on a copy of a slice from a DataFrame.\n",
      "Try using .loc[row_indexer,col_indexer] = value instead\n",
      "\n",
      "See the caveats in the documentation: https://pandas.pydata.org/pandas-docs/stable/user_guide/indexing.html#returning-a-view-versus-a-copy\n",
      "  df_X_val[cnam] = df_X_val[cnam].astype('category')\n"
     ]
    }
   ],
   "source": [
    " for cnam in ['ecfg', 'flbmk', 'flg_3dsmk', 'insfg', 'ovrlt']:\n",
    "        df_X_train[cnam] = df_X_train[cnam].astype('category')\n",
    "        df_X_val[cnam] = df_X_val[cnam].astype('category')\n"
   ]
  },
  {
   "cell_type": "code",
   "execution_count": 70,
   "metadata": {
    "id": "3l-Ylx4bjRAr",
    "pycharm": {
     "is_executing": true
    }
   },
   "outputs": [],
   "source": [
    "# create dataset for lightgbm\n",
    "lgb_train = lgb.Dataset(df_X_train, df_y_train)\n",
    "lgb_eval = lgb.Dataset(df_X_val, df_y_val, reference=lgb_train)"
   ]
  },
  {
   "cell_type": "code",
   "execution_count": 72,
   "metadata": {
    "colab": {
     "base_uri": "https://localhost:8080/"
    },
    "id": "55A5e36RiUE5",
    "outputId": "a4ae970e-31bb-4bbc-84a9-39f610bebdef",
    "pycharm": {
     "is_executing": true
    }
   },
   "outputs": [
    {
     "name": "stdout",
     "output_type": "stream",
     "text": [
      "Starting training...\n",
      "[LightGBM] [Warning] Accuracy may be bad since you didn't explicitly set num_leaves OR 2^max_depth > num_leaves. (num_leaves=31).\n",
      "[LightGBM] [Warning] Accuracy may be bad since you didn't explicitly set num_leaves OR 2^max_depth > num_leaves. (num_leaves=31).\n",
      "[LightGBM] [Warning] Accuracy may be bad since you didn't explicitly set num_leaves OR 2^max_depth > num_leaves. (num_leaves=31).\n",
      "[LightGBM] [Warning] Accuracy may be bad since you didn't explicitly set num_leaves OR 2^max_depth > num_leaves. (num_leaves=31).\n",
      "[LightGBM] [Warning] Accuracy may be bad since you didn't explicitly set num_leaves OR 2^max_depth > num_leaves. (num_leaves=31).\n",
      "[LightGBM] [Info] Number of positive: 11501, number of negative: 11423\n",
      "[LightGBM] [Warning] Auto-choosing col-wise multi-threading, the overhead of testing was 0.005513 seconds.\n",
      "You can set `force_col_wise=true` to remove the overhead.\n",
      "[LightGBM] [Info] Total Bins 2081\n",
      "[LightGBM] [Info] Number of data points in the train set: 22924, number of used features: 21\n",
      "[LightGBM] [Info] [binary:BoostFromScore]: pavg=0.501701 -> initscore=0.006805\n",
      "[LightGBM] [Info] Start training from score 0.006805\n",
      "[1]\tvalid_0's binary_logloss: 0.67131\n",
      "Training until validation scores don't improve for 20 rounds\n",
      "[2]\tvalid_0's binary_logloss: 0.650686\n",
      "[3]\tvalid_0's binary_logloss: 0.631227\n",
      "[4]\tvalid_0's binary_logloss: 0.612787\n",
      "[5]\tvalid_0's binary_logloss: 0.595338\n",
      "[6]\tvalid_0's binary_logloss: 0.578794\n",
      "[7]\tvalid_0's binary_logloss: 0.563256\n",
      "[8]\tvalid_0's binary_logloss: 0.548376\n",
      "[9]\tvalid_0's binary_logloss: 0.534341\n",
      "[10]\tvalid_0's binary_logloss: 0.520924\n",
      "[11]\tvalid_0's binary_logloss: 0.508221\n",
      "[12]\tvalid_0's binary_logloss: 0.496089\n",
      "[13]\tvalid_0's binary_logloss: 0.484574\n",
      "[14]\tvalid_0's binary_logloss: 0.473569\n",
      "[15]\tvalid_0's binary_logloss: 0.463129\n",
      "[16]\tvalid_0's binary_logloss: 0.453109\n",
      "[17]\tvalid_0's binary_logloss: 0.44358\n",
      "[18]\tvalid_0's binary_logloss: 0.434481\n",
      "[19]\tvalid_0's binary_logloss: 0.425731\n",
      "[20]\tvalid_0's binary_logloss: 0.417389\n",
      "Did not meet early stopping. Best iteration is:\n",
      "[20]\tvalid_0's binary_logloss: 0.417389\n"
     ]
    }
   ],
   "source": [
    "# specify your configurations as a dict\n",
    "params={}\n",
    "params['learning_rate']=0.03\n",
    "params['boosting_type']='gbdt' #GradientBoostingDecisionTree\n",
    "params['objective']='binary' #Binary target feature\n",
    "params['metric']='binary_logloss' #metric for binary classification\n",
    "params['max_depth']=10\n",
    "\n",
    "print('Starting training...')\n",
    "\n",
    "gbm = lgb.train(params,\n",
    "                lgb_train,\n",
    "                num_boost_round=20,\n",
    "                valid_sets=lgb_eval,\n",
    "                early_stopping_rounds=20)\n",
    "\n"
   ]
  },
  {
   "cell_type": "markdown",
   "metadata": {
    "id": "k1OAMPSL6YXc"
   },
   "source": [
    "# Validation with downsampleing data"
   ]
  },
  {
   "cell_type": "code",
   "execution_count": 73,
   "metadata": {
    "colab": {
     "base_uri": "https://localhost:8080/"
    },
    "id": "i-S0TPLZi66G",
    "outputId": "cb3786cd-2f4a-4ec0-b401-5ac8a5b9d39c",
    "pycharm": {
     "is_executing": true
    }
   },
   "outputs": [
    {
     "name": "stdout",
     "output_type": "stream",
     "text": [
      "Starting predicting...\n",
      "auc: 0.9586805374791417\n"
     ]
    }
   ],
   "source": [
    "print('Starting predicting...')\n",
    "# predict\n",
    "y_pred = gbm.predict(df_X_val, num_iteration=gbm.best_iteration)\n",
    "# eval\n",
    "print('auc:', roc_auc_score(df_y_val, y_pred))"
   ]
  },
  {
   "cell_type": "code",
   "execution_count": 74,
   "metadata": {
    "colab": {
     "base_uri": "https://localhost:8080/"
    },
    "id": "vTGjxWm2jo-K",
    "outputId": "5dab9c5b-fd40-451f-dca5-4fb53a1c945c",
    "pycharm": {
     "is_executing": true
    }
   },
   "outputs": [
    {
     "data": {
      "text/plain": [
       "array([[3477,  383],\n",
       "       [ 202, 3580]])"
      ]
     },
     "execution_count": 74,
     "metadata": {},
     "output_type": "execute_result"
    }
   ],
   "source": [
    "confusion_matrix(df_y_val, (y_pred > 0.5).astype(int))"
   ]
  },
  {
   "cell_type": "code",
   "execution_count": 75,
   "metadata": {
    "id": "rN0JzEY40qVv",
    "pycharm": {
     "is_executing": true
    }
   },
   "outputs": [],
   "source": [
    "tn, fp, fn, tp  = confusion_matrix(df_y_val, (y_pred > 0.5).astype(int)).ravel() "
   ]
  },
  {
   "cell_type": "code",
   "execution_count": 76,
   "metadata": {
    "colab": {
     "base_uri": "https://localhost:8080/"
    },
    "id": "aeXKOn4_0syk",
    "outputId": "ebbdf065-34b2-402b-ff6d-ee8c358a4bd2",
    "pycharm": {
     "is_executing": true
    }
   },
   "outputs": [
    {
     "data": {
      "text/plain": [
       "(3477, 383, 202, 3580)"
      ]
     },
     "execution_count": 76,
     "metadata": {},
     "output_type": "execute_result"
    }
   ],
   "source": [
    "tn, fp, fn, tp"
   ]
  },
  {
   "cell_type": "code",
   "execution_count": 77,
   "metadata": {
    "pycharm": {
     "is_executing": true
    }
   },
   "outputs": [
    {
     "data": {
      "text/plain": [
       "0.9244673983214978"
      ]
     },
     "execution_count": 77,
     "metadata": {},
     "output_type": "execute_result"
    }
   ],
   "source": [
    "f1_score(df_y_val,y_pred > 0.5)"
   ]
  },
  {
   "cell_type": "markdown",
   "metadata": {
    "id": "p3dhXPwr5rJ6"
   },
   "source": [
    "# Testing : verify with real distribution data"
   ]
  },
  {
   "cell_type": "code",
   "execution_count": 78,
   "metadata": {
    "pycharm": {
     "is_executing": true
    }
   },
   "outputs": [],
   "source": [
    "test = pd.read_csv(\"./data/test.csv\")"
   ]
  },
  {
   "cell_type": "code",
   "execution_count": 79,
   "metadata": {
    "pycharm": {
     "is_executing": true
    }
   },
   "outputs": [],
   "source": [
    "assert len(set(test.txkey).intersection(set(train.txkey)))==0"
   ]
  },
  {
   "cell_type": "code",
   "execution_count": 80,
   "metadata": {
    "pycharm": {
     "is_executing": true
    }
   },
   "outputs": [],
   "source": [
    "test = test.set_index(\"txkey\")"
   ]
  },
  {
   "cell_type": "code",
   "execution_count": 81,
   "metadata": {
    "pycharm": {
     "is_executing": true
    }
   },
   "outputs": [
    {
     "data": {
      "text/plain": [
       "count    380447.000000\n",
       "mean          0.013332\n",
       "std           0.114691\n",
       "min           0.000000\n",
       "25%           0.000000\n",
       "50%           0.000000\n",
       "75%           0.000000\n",
       "max           1.000000\n",
       "Name: fraud_ind, dtype: float64"
      ]
     },
     "execution_count": 81,
     "metadata": {},
     "output_type": "execute_result"
    }
   ],
   "source": [
    "test.fraud_ind.describe()"
   ]
  },
  {
   "cell_type": "code",
   "execution_count": 82,
   "metadata": {
    "pycharm": {
     "is_executing": true
    }
   },
   "outputs": [
    {
     "data": {
      "text/plain": [
       "count    380447.000000\n",
       "mean          0.013332\n",
       "std           0.114691\n",
       "min           0.000000\n",
       "25%           0.000000\n",
       "50%           0.000000\n",
       "75%           0.000000\n",
       "max           1.000000\n",
       "Name: fraud_ind, dtype: float64"
      ]
     },
     "execution_count": 82,
     "metadata": {},
     "output_type": "execute_result"
    }
   ],
   "source": [
    "y_test = test.fraud_ind\n",
    "y_test.describe()"
   ]
  },
  {
   "cell_type": "code",
   "execution_count": 83,
   "metadata": {
    "pycharm": {
     "is_executing": true
    }
   },
   "outputs": [],
   "source": [
    "del test['fraud_ind']"
   ]
  },
  {
   "cell_type": "code",
   "execution_count": 84,
   "metadata": {
    "pycharm": {
     "is_executing": true
    }
   },
   "outputs": [],
   "source": [
    "X_test = test"
   ]
  },
  {
   "cell_type": "code",
   "execution_count": 85,
   "metadata": {
    "pycharm": {
     "is_executing": true
    }
   },
   "outputs": [],
   "source": [
    " for cnam in ['ecfg', 'flbmk', 'flg_3dsmk', 'insfg', 'ovrlt']:\n",
    "        X_test[cnam] = X_test[cnam].astype('category')\n"
   ]
  },
  {
   "cell_type": "code",
   "execution_count": 92,
   "metadata": {
    "id": "M5fcdIak6J7s",
    "pycharm": {
     "is_executing": true
    }
   },
   "outputs": [],
   "source": [
    "y_pred = gbm.predict(X_test, num_iteration=gbm.best_iteration)\n"
   ]
  },
  {
   "cell_type": "code",
   "execution_count": 104,
   "metadata": {
    "colab": {
     "base_uri": "https://localhost:8080/"
    },
    "id": "uGQoXMgQ6Ppu",
    "outputId": "3910799e-f8cb-4e41-9175-d3df9ef3149b",
    "pycharm": {
     "is_executing": true
    }
   },
   "outputs": [
    {
     "name": "stdout",
     "output_type": "stream",
     "text": [
      "auc: 0.9579652634431814\n"
     ]
    }
   ],
   "source": [
    "print('auc:', roc_auc_score(y_test, y_pred))"
   ]
  },
  {
   "cell_type": "code",
   "execution_count": 105,
   "metadata": {},
   "outputs": [
    {
     "name": "stdout",
     "output_type": "stream",
     "text": [
      "(380447,)\n",
      "(380447,)\n"
     ]
    }
   ],
   "source": [
    "print(y_test.shape)\n",
    "print(y_pred.shape)"
   ]
  },
  {
   "cell_type": "markdown",
   "metadata": {},
   "source": [
    "## AUC\n",
    "* must be careful with the y_preb's shape and y_test's shape that must be as {# of the sample, # of the classes }"
   ]
  },
  {
   "cell_type": "code",
   "execution_count": 132,
   "metadata": {},
   "outputs": [
    {
     "data": {
      "text/plain": [
       "<AxesSubplot:title={'center':'ROC Curves'}, xlabel='False Positive Rate', ylabel='True Positive Rate'>"
      ]
     },
     "execution_count": 132,
     "metadata": {},
     "output_type": "execute_result"
    },
    {
     "data": {
      "image/png": "[encoded data removed]",
      "text/plain": [
       "<Figure size 432x288 with 1 Axes>"
      ]
     },
     "metadata": {
      "needs_background": "light"
     },
     "output_type": "display_data"
    }
   ],
   "source": [
    "import scikitplot as skplt\n",
    "\n",
    "# be carefule the stacking must be correct XD!!!\n",
    "y_pred_2_class = []\n",
    "\n",
    "for p in y_pred :\n",
    "    y_pred_2_class.append([1-p,p])\n",
    "y_pred_2_class = np.array(y_pred_2_class)\n",
    "\n",
    "skplt.metrics.plot_roc(y_test, y_pred_2_class)\n"
   ]
  },
  {
   "cell_type": "markdown",
   "metadata": {},
   "source": [
    "## Confusion Matrix"
   ]
  },
  {
   "cell_type": "code",
   "execution_count": 109,
   "metadata": {
    "colab": {
     "base_uri": "https://localhost:8080/"
    },
    "id": "cIGZq2CB6k3d",
    "outputId": "29aaa75c-605a-4e3d-dd5e-b12087a173b2",
    "pycharm": {
     "is_executing": true
    }
   },
   "outputs": [
    {
     "data": {
      "text/plain": [
       "array([[336497,  38878],\n",
       "       [   287,   4785]])"
      ]
     },
     "execution_count": 109,
     "metadata": {},
     "output_type": "execute_result"
    }
   ],
   "source": [
    "cm = confusion_matrix(y_test, (y_pred > 0.5).astype(int), labels=[0,1])\n",
    "cm"
   ]
  },
  {
   "cell_type": "code",
   "execution_count": 110,
   "metadata": {
    "colab": {
     "base_uri": "https://localhost:8080/"
    },
    "id": "PtfsE_nfQ-fW",
    "outputId": "09d35206-641e-4b4d-8d67-92297b103db9",
    "pycharm": {
     "is_executing": true
    }
   },
   "outputs": [
    {
     "name": "stdout",
     "output_type": "stream",
     "text": [
      "precision_score 0.13012512568428108\n",
      "recall_score 0.9185725552050473\n",
      "f1_score 0.22795772580487325\n"
     ]
    }
   ],
   "source": [
    "th = .6\n",
    "print(\"precision_score\", precision_score(y_test,(y_pred > th).astype(int)))\n",
    "print(\"recall_score\",    recall_score(y_test,(y_pred > th).astype(int)))\n",
    "print(\"f1_score\",        f1_score(y_test,(y_pred > th).astype(int)))"
   ]
  },
  {
   "cell_type": "code",
   "execution_count": 111,
   "metadata": {
    "id": "vtO1Kj2t5Igd",
    "pycharm": {
     "is_executing": true
    }
   },
   "outputs": [],
   "source": [
    "fnscore =  [ (fname,socre) for fname,socre in zip(gbm.feature_name(),gbm.feature_importance())]"
   ]
  },
  {
   "cell_type": "code",
   "execution_count": 112,
   "metadata": {
    "id": "7GWpVGv15wVs",
    "pycharm": {
     "is_executing": true
    }
   },
   "outputs": [
    {
     "data": {
      "text/plain": [
       "[('mchno', 149),\n",
       " ('csmcu', 65),\n",
       " ('stocn', 54),\n",
       " ('conam', 50),\n",
       " ('mcc', 50),\n",
       " ('scity', 45),\n",
       " ('etymd', 40),\n",
       " ('stscd', 37),\n",
       " ('acqic', 32),\n",
       " ('loctm', 22),\n",
       " ('flg_3dsmk', 21),\n",
       " ('ecfg', 20),\n",
       " ('bacno', 12),\n",
       " ('locdt', 2),\n",
       " ('iterm', 1),\n",
       " ('cano', 0),\n",
       " ('contp', 0),\n",
       " ('flbmk', 0),\n",
       " ('hcefg', 0),\n",
       " ('insfg', 0),\n",
       " ('ovrlt', 0)]"
      ]
     },
     "execution_count": 112,
     "metadata": {},
     "output_type": "execute_result"
    }
   ],
   "source": [
    "top_feature = sorted(fnscore, key=lambda tup: tup[1], reverse=True)[:25]\n",
    "top_feature"
   ]
  },
  {
   "cell_type": "markdown",
   "metadata": {},
   "source": [
    "## PRU (Precision Recall Curve)"
   ]
  },
  {
   "cell_type": "code",
   "execution_count": null,
   "metadata": {},
   "outputs": [],
   "source": [
    "from sklearn.metrics import precision_recall_curve\n",
    "from sklearn.metrics import plot_precision_recall_curve\n",
    "import matplotlib.pyplot as plt\n",
    "\n",
    "disp = plot_precision_recall_curve(classifier, X_test, y_test)\n",
    "disp.ax_.set_title('2-class Precision-Recall curve: '\n",
    "                   'AP={0:0.2f}'.format(average_precision))"
   ]
  },
  {
   "cell_type": "code",
   "execution_count": null,
   "metadata": {},
   "outputs": [],
   "source": []
  },
  {
   "cell_type": "code",
   "execution_count": null,
   "metadata": {},
   "outputs": [],
   "source": []
  },
  {
   "cell_type": "markdown",
   "metadata": {},
   "source": [
    "# Lift"
   ]
  },
  {
   "cell_type": "code",
   "execution_count": null,
   "metadata": {
    "pycharm": {
     "is_executing": true
    }
   },
   "outputs": [],
   "source": [
    "import lift"
   ]
  },
  {
   "cell_type": "code",
   "execution_count": null,
   "metadata": {
    "pycharm": {
     "is_executing": true
    }
   },
   "outputs": [],
   "source": [
    "import numpy as np\n",
    "\n"
   ]
  },
  {
   "cell_type": "code",
   "execution_count": null,
   "metadata": {
    "pycharm": {
     "is_executing": true
    }
   },
   "outputs": [],
   "source": [
    "y_test.to_numpy().shape"
   ]
  },
  {
   "cell_type": "code",
   "execution_count": null,
   "metadata": {
    "pycharm": {
     "is_executing": true
    }
   },
   "outputs": [],
   "source": [
    " y_pred.reshape([-1,1]).shape"
   ]
  },
  {
   "cell_type": "code",
   "execution_count": null,
   "metadata": {
    "pycharm": {
     "is_executing": true
    }
   },
   "outputs": [],
   "source": [
    "y_pred"
   ]
  },
  {
   "cell_type": "code",
   "execution_count": null,
   "metadata": {
    "pycharm": {
     "is_executing": true
    }
   },
   "outputs": [],
   "source": [
    "import scikitplot as skplt\n",
    "skplt.metrics.plot_lift_curve(y_test.to_numpy(),np.vstack([y_pred, y_pred-1]).reshape([-1,2]))\n"
   ]
  },
  {
   "cell_type": "code",
   "execution_count": null,
   "metadata": {
    "pycharm": {
     "is_executing": true
    }
   },
   "outputs": [],
   "source": []
  }
 ],
 "metadata": {
  "colab": {
   "authorship_tag": "ABX9TyNMzSksEOG7jumSC0YDotXb",
   "collapsed_sections": [],
   "include_colab_link": true,
   "name": "SimpleModel_LightGBM",
   "provenance": [],
   "toc_visible": true
  },
  "kernelspec": {
   "display_name": "Python 3",
   "language": "python",
   "name": "python3"
  },
  "language_info": {
   "codemirror_mode": {
    "name": "ipython",
    "version": 3
   },
   "file_extension": ".py",
   "mimetype": "text/x-python",
   "name": "python",
   "nbconvert_exporter": "python",
   "pygments_lexer": "ipython3",
   "version": "3.8.2"
  }
 },
 "nbformat": 4,
 "nbformat_minor": 1
}